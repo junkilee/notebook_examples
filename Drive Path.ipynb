{
 "cells": [
  {
   "cell_type": "markdown",
   "metadata": {
    "nbpresent": {
     "id": "0aff486e-154b-42ea-afc5-a93c96ec4226"
    },
    "slideshow": {
     "slide_type": "-"
    }
   },
   "source": [
    "# Hello\n",
    "\n",
    "hello hello\n"
   ]
  },
  {
   "cell_type": "code",
   "execution_count": 4,
   "metadata": {
    "nbpresent": {
     "id": "1f4ae86e-8921-4d10-ac90-a93027b821a0"
    },
    "slideshow": {
     "slide_type": "-"
    }
   },
   "outputs": [
    {
     "data": {
      "text/plain": [
       "<matplotlib.image.AxesImage at 0x7fdb373a6fd0>"
      ]
     },
     "execution_count": 4,
     "metadata": {},
     "output_type": "execute_result"
    },
    {
     "data": {
      "image/png": "[encoded data removed]",
      "text/plain": [
       "<matplotlib.figure.Figure at 0x7fdb3755e4e0>"
      ]
     },
     "metadata": {},
     "output_type": "display_data"
    }
   ],
   "source": [
    "from matplotlib import pyplot as plt\n",
    "%matplotlib inline\n",
    "\n",
    "import numpy as np\n",
    "\n",
    "def gaussian(x, mu, sigma):\n",
    "    return 1/(sigma * np.sqrt(2 * np.pi)) * np.exp( - (x - mu)**2 / (2 * sigma**2) )\n",
    "\n",
    "def logistic(x, mu, k, L):\n",
    "    return L / (1 + np.exp(-k * (x - mu)))\n",
    "    \n",
    "\n",
    "x = np.arange(-8.0, 8.0, 0.01)\n",
    "y = np.arange(-8.0, 8.0, 0.01)\n",
    "xx, yy = np.meshgrid(x, y)\n",
    "\n",
    "plt.figure()\n",
    "z = logistic(xx, -5 + 1.5, 6, 1) - logistic(xx, 5 - 1.5, 6, 1) + gaussian(xx, -2.5, 0.5) + gaussian(xx, 2.5, 0.5)\n",
    "plt.imshow(z, extent=[-8,8,-8,8])"
   ]
  },
  {
   "cell_type": "code",
   "execution_count": null,
   "metadata": {
    "collapsed": true,
    "nbpresent": {
     "id": "bd9cef48-f9b1-4def-9a62-3d5a2d698ffa"
    }
   },
   "outputs": [],
   "source": []
  }
 ],
 "metadata": {
  "anaconda-cloud": {},
  "celltoolbar": "Slideshow",
  "kernelspec": {
   "display_name": "Python [default]",
   "language": "python",
   "name": "python3"
  },
  "language_info": {
   "codemirror_mode": {
    "name": "ipython",
    "version": 3
   },
   "file_extension": ".py",
   "mimetype": "text/x-python",
   "name": "python",
   "nbconvert_exporter": "python",
   "pygments_lexer": "ipython3",
   "version": "3.5.2"
  },
  "nbpresent": {
   "slides": {
    "630db385-4e76-40a3-9b32-9d61225c82c5": {
     "id": "630db385-4e76-40a3-9b32-9d61225c82c5",
     "prev": "802face4-1503-4bcd-913c-645b4d0f523d",
     "regions": {
      "2e4ef2ca-32cd-4f8b-8147-592d81a1c27e": {
       "attrs": {
        "height": 0.8,
        "width": 0.45,
        "x": 0.05,
        "y": 0.1
       },
       "content": {
        "cell": "1f4ae86e-8921-4d10-ac90-a93027b821a0",
        "part": "source"
       },
       "id": "2e4ef2ca-32cd-4f8b-8147-592d81a1c27e"
      },
      "d46846d0-12b9-4509-8a3f-844c0cb07565": {
       "attrs": {
        "height": 0.8,
        "width": 0.45,
        "x": 0.5,
        "y": 0.1
       },
       "content": {
        "cell": "1f4ae86e-8921-4d10-ac90-a93027b821a0",
        "part": "outputs"
       },
       "id": "d46846d0-12b9-4509-8a3f-844c0cb07565"
      }
     }
    },
    "802face4-1503-4bcd-913c-645b4d0f523d": {
     "id": "802face4-1503-4bcd-913c-645b4d0f523d",
     "layout": "grid",
     "prev": null,
     "regions": {
      "9ef89f05-a41b-4b62-9294-801205a04a7b": {
       "attrs": {
        "height": 0.8333333333333334,
        "pad": 0.01,
        "width": 0.8333333333333334,
        "x": 0.08333333333333333,
        "y": 0.08333333333333333
       },
       "content": {
        "cell": "0aff486e-154b-42ea-afc5-a93c96ec4226",
        "part": "source"
       },
       "id": "9ef89f05-a41b-4b62-9294-801205a04a7b"
      }
     }
    }
   },
   "themes": {
    "default": "28217a74-3f9a-49db-b387-c2480f251b29",
    "theme": {
     "28217a74-3f9a-49db-b387-c2480f251b29": {
      "backgrounds": {
       "dc7afa04-bf90-40b1-82a5-726e3cff5267": {
        "background-color": "31af15d2-7e15-44c5-ab5e-e04b16a89eff",
        "id": "dc7afa04-bf90-40b1-82a5-726e3cff5267"
       }
      },
      "id": "28217a74-3f9a-49db-b387-c2480f251b29",
      "palette": {
       "19cc588f-0593-49c9-9f4b-e4d7cc113b1c": {
        "id": "19cc588f-0593-49c9-9f4b-e4d7cc113b1c",
        "rgb": [
         252,
         252,
         252
        ]
       },
       "31af15d2-7e15-44c5-ab5e-e04b16a89eff": {
        "id": "31af15d2-7e15-44c5-ab5e-e04b16a89eff",
        "rgb": [
         68,
         68,
         68
        ]
       },
       "50f92c45-a630-455b-aec3-788680ec7410": {
        "id": "50f92c45-a630-455b-aec3-788680ec7410",
        "rgb": [
         197,
         226,
         245
        ]
       },
       "c5cc3653-2ee1-402a-aba2-7caae1da4f6c": {
        "id": "c5cc3653-2ee1-402a-aba2-7caae1da4f6c",
        "rgb": [
         43,
         126,
         184
        ]
       },
       "efa7f048-9acb-414c-8b04-a26811511a21": {
        "id": "efa7f048-9acb-414c-8b04-a26811511a21",
        "rgb": [
         25.118061674008803,
         73.60176211453744,
         107.4819383259912
        ]
       }
      },
      "rules": {
       "a": {
        "color": "19cc588f-0593-49c9-9f4b-e4d7cc113b1c"
       },
       "blockquote": {
        "color": "50f92c45-a630-455b-aec3-788680ec7410",
        "font-size": 3
       },
       "code": {
        "font-family": "Anonymous Pro"
       },
       "h1": {
        "color": "19cc588f-0593-49c9-9f4b-e4d7cc113b1c",
        "font-family": "Merriweather",
        "font-size": 8
       },
       "h2": {
        "color": "19cc588f-0593-49c9-9f4b-e4d7cc113b1c",
        "font-family": "Merriweather",
        "font-size": 6
       },
       "h3": {
        "color": "50f92c45-a630-455b-aec3-788680ec7410",
        "font-family": "Lato",
        "font-size": 5.5
       },
       "h4": {
        "color": "c5cc3653-2ee1-402a-aba2-7caae1da4f6c",
        "font-family": "Lato",
        "font-size": 5
       },
       "h5": {
        "font-family": "Lato"
       },
       "h6": {
        "font-family": "Lato"
       },
       "h7": {
        "font-family": "Lato"
       },
       "li": {
        "color": "50f92c45-a630-455b-aec3-788680ec7410",
        "font-size": 3.25
       },
       "pre": {
        "font-family": "Anonymous Pro",
        "font-size": 4
       }
      },
      "text-base": {
       "color": "19cc588f-0593-49c9-9f4b-e4d7cc113b1c",
       "font-family": "Lato",
       "font-size": 4
      }
     }
    }
   }
  }
 },
 "nbformat": 4,
 "nbformat_minor": 1
}
